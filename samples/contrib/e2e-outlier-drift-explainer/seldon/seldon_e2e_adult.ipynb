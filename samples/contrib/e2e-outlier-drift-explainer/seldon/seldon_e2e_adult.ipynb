{
 "cells": [
  {
   "cell_type": "markdown",
   "metadata": {
    "tags": []
   },
   "source": [
    "# End to End Machine Learning Pipeline for Income Prediction\n",
    "\n",
    "We use [demographic features from the 1996 US census](https://archive.ics.uci.edu/ml/datasets/census+income) to build an end to end machine learning pipeline. The pipeline is also annotated so it can be run as a [Kubeflow Pipeline](https://www.kubeflow.org/docs/pipelines/overview/pipelines-overview/) using the [Kale](https://github.com/kubeflow-kale/kale) pipeline generator.\n",
    "\n",
    "The notebook/pipeline stages are:\n",
    "\n",
    " 1. Setup \n",
    "   * Imports\n",
    "   * pipeline-parameters\n",
    "   * minio client test\n",
    " 1. Train a simple sklearn model and push to minio\n",
    " 1. Prepare an Anchors explainer for model and push to minio\n",
    " 1. Test Explainer\n",
    " 1. Train an isolation forest outlier detector for model and push to minio\n",
    " 1. Deploy a Seldon model and test\n",
    " 1. Deploy a KfServing model and test\n",
    " 1. Deploy an outlier detector \n",
    "\n"
   ]
  },
  {
   "cell_type": "code",
   "execution_count": 58,
   "metadata": {
    "tags": [
     "imports"
    ]
   },
   "outputs": [],
   "source": [
    "import numpy as np\n",
    "from sklearn.ensemble import RandomForestClassifier\n",
    "from sklearn.compose import ColumnTransformer\n",
    "from sklearn.pipeline import Pipeline\n",
    "from sklearn.impute import SimpleImputer\n",
    "from sklearn.metrics import accuracy_score\n",
    "from sklearn.preprocessing import StandardScaler, OneHotEncoder\n",
    "from alibi.explainers import AnchorTabular\n",
    "from alibi.datasets import fetch_adult\n",
    "from minio import Minio\n",
    "from minio.error import ResponseError\n",
    "from joblib import dump, load\n",
    "import dill\n",
    "import time\n",
    "import json\n",
    "from subprocess import run, Popen, PIPE\n",
    "from alibi_detect.utils.data import create_outlier_batch"
   ]
  },
  {
   "cell_type": "code",
   "execution_count": 2,
   "metadata": {
    "tags": [
     "pipeline-parameters"
    ]
   },
   "outputs": [],
   "source": [
    "MINIO_HOST=\"minio-service.kubeflow:9000\"\n",
    "MINIO_ACCESS_KEY=\"minio\"\n",
    "MINIO_SECRET_KEY=\"minio123\"\n",
    "MINIO_MODEL_BUCKET=\"seldon\"\n",
    "INCOME_MODEL_PATH=\"sklearn/income/model\"\n",
    "EXPLAINER_MODEL_PATH=\"sklearn/income/explainer\"\n",
    "OUTLIER_MODEL_PATH=\"sklearn/income/outlier\"\n",
    "DEPLOY_NAMESPACE=\"admin\""
   ]
  },
  {
   "cell_type": "code",
   "execution_count": 3,
   "metadata": {
    "tags": [
     "functions"
    ]
   },
   "outputs": [],
   "source": [
    "def get_minio():\n",
    "    return Minio(MINIO_HOST,\n",
    "                    access_key=MINIO_ACCESS_KEY,\n",
    "                    secret_key=MINIO_SECRET_KEY,\n",
    "                    secure=False)"
   ]
  },
  {
   "cell_type": "code",
   "execution_count": 4,
   "metadata": {
    "tags": [
     "block:setup"
    ]
   },
   "outputs": [
    {
     "name": "stdout",
     "output_type": "stream",
     "text": [
      "mlpipeline 2020-07-04 08:55:55.417000+00:00\n",
      "mybucket 2020-07-17 09:54:33.136000+00:00\n",
      "seldon 2020-07-24 19:24:13.525000+00:00\n"
     ]
    }
   ],
   "source": [
    "minioClient = get_minio()\n",
    "buckets = minioClient.list_buckets()\n",
    "for bucket in buckets:\n",
    "    print(bucket.name, bucket.creation_date)"
   ]
  },
  {
   "cell_type": "code",
   "execution_count": 5,
   "metadata": {
    "tags": []
   },
   "outputs": [],
   "source": [
    "if not minioClient.bucket_exists(MINIO_MODEL_BUCKET):\n",
    "    minioClient.make_bucket(MINIO_MODEL_BUCKET)"
   ]
  },
  {
   "cell_type": "markdown",
   "metadata": {
    "tags": []
   },
   "source": [
    "## Train Model"
   ]
  },
  {
   "cell_type": "code",
   "execution_count": 6,
   "metadata": {
    "tags": [
     "block:build_model",
     "prev:setup"
    ]
   },
   "outputs": [
    {
     "data": {
      "text/plain": [
       "dict_keys(['data', 'target', 'feature_names', 'target_names', 'category_map'])"
      ]
     },
     "execution_count": 6,
     "metadata": {},
     "output_type": "execute_result"
    }
   ],
   "source": [
    "adult = fetch_adult()\n",
    "adult.keys()"
   ]
  },
  {
   "cell_type": "code",
   "execution_count": 7,
   "metadata": {
    "tags": [
     "block:"
    ]
   },
   "outputs": [],
   "source": [
    "data = adult.data\n",
    "target = adult.target\n",
    "feature_names = adult.feature_names\n",
    "category_map = adult.category_map"
   ]
  },
  {
   "cell_type": "markdown",
   "metadata": {
    "tags": []
   },
   "source": [
    "Note that for your own datasets you can use our utility function [gen_category_map](../api/alibi.utils.data.rst) to create the category map:"
   ]
  },
  {
   "cell_type": "code",
   "execution_count": 8,
   "metadata": {
    "tags": []
   },
   "outputs": [],
   "source": [
    "from alibi.utils.data import gen_category_map"
   ]
  },
  {
   "cell_type": "markdown",
   "metadata": {
    "tags": []
   },
   "source": [
    "Define shuffled training and test set"
   ]
  },
  {
   "cell_type": "code",
   "execution_count": 9,
   "metadata": {
    "tags": []
   },
   "outputs": [],
   "source": [
    "np.random.seed(0)\n",
    "data_perm = np.random.permutation(np.c_[data, target])\n",
    "data = data_perm[:,:-1]\n",
    "target = data_perm[:,-1]"
   ]
  },
  {
   "cell_type": "code",
   "execution_count": 10,
   "metadata": {
    "tags": []
   },
   "outputs": [],
   "source": [
    "idx = 30000\n",
    "X_train,Y_train = data[:idx,:], target[:idx]\n",
    "X_test, Y_test = data[idx+1:,:], target[idx+1:]"
   ]
  },
  {
   "cell_type": "markdown",
   "metadata": {
    "tags": []
   },
   "source": [
    "### Create feature transformation pipeline\n",
    "Create feature pre-processor. Needs to have 'fit' and 'transform' methods. Different types of pre-processing can be applied to all or part of the features. In the example below we will standardize ordinal features and apply one-hot-encoding to categorical features.\n",
    "\n",
    "Ordinal features:"
   ]
  },
  {
   "cell_type": "code",
   "execution_count": 11,
   "metadata": {
    "tags": []
   },
   "outputs": [],
   "source": [
    "ordinal_features = [x for x in range(len(feature_names)) if x not in list(category_map.keys())]\n",
    "ordinal_transformer = Pipeline(steps=[('imputer', SimpleImputer(strategy='median')),\n",
    "                                      ('scaler', StandardScaler())])"
   ]
  },
  {
   "cell_type": "markdown",
   "metadata": {
    "tags": []
   },
   "source": [
    "Categorical features:"
   ]
  },
  {
   "cell_type": "code",
   "execution_count": 12,
   "metadata": {
    "tags": []
   },
   "outputs": [],
   "source": [
    "categorical_features = list(category_map.keys())\n",
    "categorical_transformer = Pipeline(steps=[('imputer', SimpleImputer(strategy='median')),\n",
    "                                          ('onehot', OneHotEncoder(handle_unknown='ignore'))])"
   ]
  },
  {
   "cell_type": "markdown",
   "metadata": {
    "tags": []
   },
   "source": [
    "Combine and fit:"
   ]
  },
  {
   "cell_type": "code",
   "execution_count": 13,
   "metadata": {
    "tags": []
   },
   "outputs": [],
   "source": [
    "preprocessor = ColumnTransformer(transformers=[('num', ordinal_transformer, ordinal_features),\n",
    "                                               ('cat', categorical_transformer, categorical_features)])"
   ]
  },
  {
   "cell_type": "markdown",
   "metadata": {
    "tags": []
   },
   "source": [
    "### Train Random Forest model\n",
    "\n",
    "Fit on pre-processed (imputing, OHE, standardizing) data."
   ]
  },
  {
   "cell_type": "code",
   "execution_count": 14,
   "metadata": {
    "tags": []
   },
   "outputs": [],
   "source": [
    "np.random.seed(0)\n",
    "clf = RandomForestClassifier(n_estimators=50)"
   ]
  },
  {
   "cell_type": "code",
   "execution_count": 15,
   "metadata": {
    "tags": []
   },
   "outputs": [
    {
     "data": {
      "text/plain": [
       "Pipeline(memory=None,\n",
       "     steps=[('preprocess', ColumnTransformer(n_jobs=None, remainder='drop', sparse_threshold=0.3,\n",
       "         transformer_weights=None,\n",
       "         transformers=[('num', Pipeline(memory=None,\n",
       "     steps=[('imputer', SimpleImputer(copy=True, fill_value=None, missing_values=nan,\n",
       "       strategy='median', verbose...obs=None,\n",
       "            oob_score=False, random_state=None, verbose=0,\n",
       "            warm_start=False))])"
      ]
     },
     "execution_count": 15,
     "metadata": {},
     "output_type": "execute_result"
    }
   ],
   "source": [
    "model=Pipeline(steps=[(\"preprocess\",preprocessor),(\"model\",clf)])\n",
    "model.fit(X_train,Y_train)"
   ]
  },
  {
   "cell_type": "markdown",
   "metadata": {
    "tags": []
   },
   "source": [
    "Define predict function"
   ]
  },
  {
   "cell_type": "code",
   "execution_count": 16,
   "metadata": {
    "tags": [
     "block:"
    ]
   },
   "outputs": [],
   "source": [
    "def predict_fn(x):\n",
    "    return model.predict(x)"
   ]
  },
  {
   "cell_type": "code",
   "execution_count": 17,
   "metadata": {
    "tags": [
     "block:",
     "prev:build_model"
    ]
   },
   "outputs": [
    {
     "name": "stdout",
     "output_type": "stream",
     "text": [
      "Train accuracy:  0.9655333333333334\n",
      "Test accuracy:  0.855859375\n"
     ]
    }
   ],
   "source": [
    "#predict_fn = lambda x: clf.predict(preprocessor.transform(x))\n",
    "print('Train accuracy: ', accuracy_score(Y_train, predict_fn(X_train)))\n",
    "print('Test accuracy: ', accuracy_score(Y_test, predict_fn(X_test)))"
   ]
  },
  {
   "cell_type": "code",
   "execution_count": 18,
   "metadata": {
    "tags": []
   },
   "outputs": [
    {
     "data": {
      "text/plain": [
       "['model.joblib']"
      ]
     },
     "execution_count": 18,
     "metadata": {},
     "output_type": "execute_result"
    }
   ],
   "source": [
    "dump(model, 'model.joblib') "
   ]
  },
  {
   "cell_type": "code",
   "execution_count": 19,
   "metadata": {
    "tags": []
   },
   "outputs": [
    {
     "name": "stdout",
     "output_type": "stream",
     "text": [
      "694bfd00872125a7906e3a12413a3c71-7\n"
     ]
    }
   ],
   "source": [
    "print(get_minio().fput_object(MINIO_MODEL_BUCKET, f\"{INCOME_MODEL_PATH}/model.joblib\", 'model.joblib'))"
   ]
  },
  {
   "cell_type": "markdown",
   "metadata": {
    "tags": []
   },
   "source": [
    "## Train Explainer"
   ]
  },
  {
   "cell_type": "code",
   "execution_count": 20,
   "metadata": {
    "tags": [
     "block:train_explainer",
     "prev:build_model"
    ]
   },
   "outputs": [],
   "source": [
    "model.predict(X_train)\n",
    "explainer = AnchorTabular(predict_fn, feature_names, categorical_names=category_map)"
   ]
  },
  {
   "cell_type": "markdown",
   "metadata": {
    "tags": []
   },
   "source": [
    "Discretize the ordinal features into quartiles"
   ]
  },
  {
   "cell_type": "code",
   "execution_count": 21,
   "metadata": {
    "tags": []
   },
   "outputs": [],
   "source": [
    "explainer.fit(X_train, disc_perc=[25, 50, 75])"
   ]
  },
  {
   "cell_type": "code",
   "execution_count": 22,
   "metadata": {
    "tags": []
   },
   "outputs": [
    {
     "name": "stdout",
     "output_type": "stream",
     "text": [
      "9b0f4efeb7c68d482cac140a5aceb7d8-2\n"
     ]
    }
   ],
   "source": [
    "with open(\"explainer.dill\", \"wb\") as dill_file:\n",
    "    dill.dump(explainer, dill_file)    \n",
    "    dill_file.close()\n",
    "print(get_minio().fput_object(MINIO_MODEL_BUCKET, f\"{EXPLAINER_MODEL_PATH}/explainer.dill\", 'explainer.dill'))"
   ]
  },
  {
   "cell_type": "markdown",
   "metadata": {
    "tags": []
   },
   "source": [
    "## Get Explanation\n",
    "\n",
    "Below, we get an anchor for the prediction of the first observation in the test set. An anchor is a sufficient condition - that is, when the anchor holds, the prediction should be the same as the prediction for this instance."
   ]
  },
  {
   "cell_type": "code",
   "execution_count": 23,
   "metadata": {
    "tags": [
     "block:explain",
     "prev:train_explainer"
    ]
   },
   "outputs": [
    {
     "name": "stdout",
     "output_type": "stream",
     "text": [
      "Prediction:  <=50K\n"
     ]
    }
   ],
   "source": [
    "model.predict(X_train)\n",
    "idx = 0\n",
    "class_names = adult.target_names\n",
    "print('Prediction: ', class_names[explainer.predict_fn(X_test[idx].reshape(1, -1))[0]])"
   ]
  },
  {
   "cell_type": "markdown",
   "metadata": {
    "tags": []
   },
   "source": [
    "We set the precision threshold to 0.95. This means that predictions on observations where the anchor holds will be the same as the prediction on the explained instance at least 95% of the time."
   ]
  },
  {
   "cell_type": "code",
   "execution_count": 24,
   "metadata": {
    "tags": []
   },
   "outputs": [
    {
     "name": "stdout",
     "output_type": "stream",
     "text": [
      "Anchor: Marital Status = Separated AND Sex = Female\n",
      "Precision: 0.96\n",
      "Coverage: 0.11\n"
     ]
    }
   ],
   "source": [
    "explanation = explainer.explain(X_test[idx], threshold=0.95)\n",
    "print('Anchor: %s' % (' AND '.join(explanation['names'])))\n",
    "print('Precision: %.2f' % explanation['precision'])\n",
    "print('Coverage: %.2f' % explanation['coverage'])"
   ]
  },
  {
   "cell_type": "markdown",
   "metadata": {
    "tags": []
   },
   "source": [
    "## Train Outlier Detector"
   ]
  },
  {
   "cell_type": "code",
   "execution_count": 25,
   "metadata": {
    "tags": [
     "block:build_outlier",
     "prev:build_model"
    ]
   },
   "outputs": [],
   "source": [
    "from alibi_detect.od import IForest\n",
    "\n",
    "od = IForest(\n",
    "    threshold=0.,\n",
    "    n_estimators=200,\n",
    ")\n"
   ]
  },
  {
   "cell_type": "code",
   "execution_count": 26,
   "metadata": {
    "tags": []
   },
   "outputs": [
    {
     "name": "stderr",
     "output_type": "stream",
     "text": [
      "/usr/local/lib/python3.6/dist-packages/sklearn/ensemble/iforest.py:213: FutureWarning: default contamination parameter 0.1 will change in version 0.22 to \"auto\". This will change the predict method behavior.\n",
      "  FutureWarning)\n",
      "/usr/local/lib/python3.6/dist-packages/sklearn/ensemble/iforest.py:223: FutureWarning: behaviour=\"old\" is deprecated and will be removed in version 0.22. Please use behaviour=\"new\", which makes the decision_function change to match other anomaly detection algorithm API.\n",
      "  FutureWarning)\n"
     ]
    }
   ],
   "source": [
    "od.fit(X_train)"
   ]
  },
  {
   "cell_type": "code",
   "execution_count": 27,
   "metadata": {
    "tags": []
   },
   "outputs": [
    {
     "name": "stdout",
     "output_type": "stream",
     "text": [
      "5.0% outliers\n"
     ]
    }
   ],
   "source": [
    "np.random.seed(0)\n",
    "perc_outlier = 5\n",
    "threshold_batch = create_outlier_batch(X_train, Y_train, n_samples=1000, perc_outlier=perc_outlier)\n",
    "X_threshold, y_threshold = threshold_batch.data.astype('float'), threshold_batch.target\n",
    "#X_threshold = (X_threshold - mean) / stdev\n",
    "print('{}% outliers'.format(100 * y_threshold.mean()))"
   ]
  },
  {
   "cell_type": "code",
   "execution_count": 28,
   "metadata": {
    "tags": []
   },
   "outputs": [
    {
     "name": "stdout",
     "output_type": "stream",
     "text": [
      "New threshold: 0.029017499251428627\n"
     ]
    }
   ],
   "source": [
    "od.infer_threshold(X_threshold, threshold_perc=100-perc_outlier)\n",
    "print('New threshold: {}'.format(od.threshold))\n",
    "threshold = od.threshold"
   ]
  },
  {
   "cell_type": "code",
   "execution_count": 29,
   "metadata": {
    "tags": []
   },
   "outputs": [],
   "source": [
    "X_outlier = [[300,  4,  4,  2,  1,  4,  4,  0,  0,  0, 600,  9]]"
   ]
  },
  {
   "cell_type": "code",
   "execution_count": 30,
   "metadata": {
    "tags": []
   },
   "outputs": [
    {
     "data": {
      "text/plain": [
       "{'data': {'instance_score': array([0.04198649]),\n",
       "  'feature_score': None,\n",
       "  'is_outlier': array([1])},\n",
       " 'meta': {'name': 'IForest',\n",
       "  'detector_type': 'offline',\n",
       "  'data_type': 'tabular'}}"
      ]
     },
     "execution_count": 30,
     "metadata": {},
     "output_type": "execute_result"
    }
   ],
   "source": [
    "od.predict(\n",
    "    X_outlier\n",
    ")"
   ]
  },
  {
   "cell_type": "code",
   "execution_count": 31,
   "metadata": {
    "tags": []
   },
   "outputs": [
    {
     "name": "stderr",
     "output_type": "stream",
     "text": [
      "W0727 16:22:05.788773 140193113450304 saving.py:68] Directory ifoutlier does not exist and is now created.\n"
     ]
    },
    {
     "name": "stdout",
     "output_type": "stream",
     "text": [
      "meta.pickle\n",
      "e57a0ae93b75c8a169b2d003231243f8\n",
      "IForest.pickle\n",
      "c9c344f140bd36fc2520ed5abcf67d0b\n"
     ]
    }
   ],
   "source": [
    "from alibi_detect.utils.saving import save_detector, load_detector\n",
    "from os import listdir\n",
    "from os.path import isfile, join\n",
    "\n",
    "filepath=\"ifoutlier\"\n",
    "save_detector(od, filepath) \n",
    "onlyfiles = [f for f in listdir(filepath) if isfile(join(filepath, f))]\n",
    "for filename in onlyfiles:\n",
    "    print(filename)\n",
    "    print(get_minio().fput_object(MINIO_MODEL_BUCKET, f\"{OUTLIER_MODEL_PATH}/{filename}\", join(filepath, filename)))"
   ]
  },
  {
   "cell_type": "markdown",
   "metadata": {
    "tags": []
   },
   "source": [
    "## Deploy Seldon Core Model"
   ]
  },
  {
   "cell_type": "code",
   "execution_count": 32,
   "metadata": {
    "tags": [
     "block:deploy_seldon",
     "prev:train_explainer"
    ]
   },
   "outputs": [
    {
     "data": {
      "text/plain": [
       "CompletedProcess(args='cat secret.yaml | kubectl apply -f -', returncode=0)"
      ]
     },
     "execution_count": 32,
     "metadata": {},
     "output_type": "execute_result"
    }
   ],
   "source": [
    "secret = f\"\"\"apiVersion: v1\n",
    "kind: Secret\n",
    "metadata:\n",
    "  name: seldon-init-container-secret\n",
    "  namespace: {DEPLOY_NAMESPACE}\n",
    "type: Opaque\n",
    "stringData:\n",
    "  AWS_ACCESS_KEY_ID: {MINIO_ACCESS_KEY}\n",
    "  AWS_SECRET_ACCESS_KEY: {MINIO_SECRET_KEY}\n",
    "  AWS_ENDPOINT_URL: http://{MINIO_HOST}\n",
    "  USE_SSL: \"false\"\n",
    "\"\"\"\n",
    "with open(\"secret.yaml\",\"w\") as f:\n",
    "    f.write(secret)\n",
    "run(\"cat secret.yaml | kubectl apply -f -\", shell=True)"
   ]
  },
  {
   "cell_type": "code",
   "execution_count": 33,
   "metadata": {
    "tags": []
   },
   "outputs": [
    {
     "data": {
      "text/plain": [
       "CompletedProcess(args='kubectl apply -f sa.yaml', returncode=0)"
      ]
     },
     "execution_count": 33,
     "metadata": {},
     "output_type": "execute_result"
    }
   ],
   "source": [
    "sa = f\"\"\"apiVersion: v1\n",
    "kind: ServiceAccount\n",
    "metadata:\n",
    "  name: minio-sa\n",
    "  namespace: {DEPLOY_NAMESPACE}\n",
    "secrets:\n",
    "  - name: seldon-init-container-secret\n",
    "\"\"\"\n",
    "with open(\"sa.yaml\",\"w\") as f:\n",
    "    f.write(sa)\n",
    "run(\"kubectl apply -f sa.yaml\", shell=True)"
   ]
  },
  {
   "cell_type": "code",
   "execution_count": 34,
   "metadata": {
    "tags": []
   },
   "outputs": [
    {
     "data": {
      "text/plain": [
       "CompletedProcess(args='kubectl apply -f model.yaml', returncode=0)"
      ]
     },
     "execution_count": 34,
     "metadata": {},
     "output_type": "execute_result"
    }
   ],
   "source": [
    "model_yaml=f\"\"\"apiVersion: machinelearning.seldon.io/v1\n",
    "kind: SeldonDeployment\n",
    "metadata:\n",
    "  name: income-classifier\n",
    "  namespace: {DEPLOY_NAMESPACE}\n",
    "spec:\n",
    "  predictors:\n",
    "  - componentSpecs:\n",
    "    graph:\n",
    "      implementation: SKLEARN_SERVER\n",
    "      modelUri: s3://{MINIO_MODEL_BUCKET}/{INCOME_MODEL_PATH}\n",
    "      envSecretRefName: seldon-init-container-secret\n",
    "      name: classifier\n",
    "      logger:\n",
    "         mode: all\n",
    "    explainer:\n",
    "      type: AnchorTabular\n",
    "      modelUri: s3://{MINIO_MODEL_BUCKET}/{EXPLAINER_MODEL_PATH}\n",
    "      envSecretRefName: seldon-init-container-secret\n",
    "    name: default\n",
    "    replicas: 1\n",
    "\"\"\"\n",
    "with open(\"model.yaml\",\"w\") as f:\n",
    "    f.write(model_yaml)\n",
    "run(\"kubectl apply -f model.yaml\", shell=True)"
   ]
  },
  {
   "cell_type": "code",
   "execution_count": 35,
   "metadata": {
    "tags": []
   },
   "outputs": [
    {
     "data": {
      "text/plain": [
       "CompletedProcess(args=\"kubectl rollout status -n admin deploy/$(kubectl get deploy -l seldon-deployment-id=income-classifier -o jsonpath='{.items[0].metadata.name}' -n admin)\", returncode=0)"
      ]
     },
     "execution_count": 35,
     "metadata": {},
     "output_type": "execute_result"
    }
   ],
   "source": [
    "run(f\"kubectl rollout status -n {DEPLOY_NAMESPACE} deploy/$(kubectl get deploy -l seldon-deployment-id=income-classifier -o jsonpath='{{.items[0].metadata.name}}' -n {DEPLOY_NAMESPACE})\", shell=True)"
   ]
  },
  {
   "cell_type": "code",
   "execution_count": 36,
   "metadata": {
    "tags": []
   },
   "outputs": [
    {
     "data": {
      "text/plain": [
       "CompletedProcess(args=\"kubectl rollout status -n admin deploy/$(kubectl get deploy -l seldon-deployment-id=income-classifier -o jsonpath='{.items[1].metadata.name}' -n admin)\", returncode=0)"
      ]
     },
     "execution_count": 36,
     "metadata": {},
     "output_type": "execute_result"
    }
   ],
   "source": [
    "run(f\"kubectl rollout status -n {DEPLOY_NAMESPACE} deploy/$(kubectl get deploy -l seldon-deployment-id=income-classifier -o jsonpath='{{.items[1].metadata.name}}' -n {DEPLOY_NAMESPACE})\", shell=True)"
   ]
  },
  {
   "cell_type": "markdown",
   "metadata": {
    "tags": []
   },
   "source": [
    "Make a prediction request"
   ]
  },
  {
   "cell_type": "code",
   "execution_count": 37,
   "metadata": {
    "tags": [
     "block:test_model",
     "prev:deploy_seldon"
    ]
   },
   "outputs": [
    {
     "name": "stdout",
     "output_type": "stream",
     "text": [
      "{\"data\":{\"names\":[\"t:0\",\"t:1\"],\"ndarray\":[[0.88,0.12]]},\"meta\":{}}\n",
      "\n"
     ]
    }
   ],
   "source": [
    "payload='{\"data\": {\"ndarray\": [[53,4,0,2,8,4,4,0,0,0,60,9]]}}'\n",
    "cmd=f\"\"\"curl -d '{payload}' \\\n",
    "   http://income-classifier-default.{DEPLOY_NAMESPACE}:8000/api/v1.0/predictions \\\n",
    "   -H \"Content-Type: application/json\"\n",
    "\"\"\"\n",
    "ret = Popen(cmd, shell=True,stdout=PIPE)\n",
    "raw = ret.stdout.read().decode(\"utf-8\")\n",
    "print(raw)"
   ]
  },
  {
   "cell_type": "markdown",
   "metadata": {
    "tags": []
   },
   "source": [
    "Make an explanation request"
   ]
  },
  {
   "cell_type": "code",
   "execution_count": 38,
   "metadata": {
    "tags": []
   },
   "outputs": [
    {
     "name": "stdout",
     "output_type": "stream",
     "text": [
      "{\"names\": [\"Marital Status = Separated\", \"Sex = Female\"], \"precision\": 0.9635627530364372, \"coverage\": 0.109, \"raw\": {\"feature\": [3, 7], \"mean\": [0.898186889818689, 0.9635627530364372], \"precision\": [0.898186889818689, 0.9635627530364372], \"coverage\": [0.1797, 0.109], \"examples\": [{\"covered\": [[71, \"Private\", \"Dropout\", \"Separated\", \"Service\", \"Not-in-family\", \"Asian-Pac-Islander\", \"Female\", \"Capital Gain <= 0.00\", \"Capital Loss <= 0.00\", 75, \"United-States\"], [34, \"Self-emp-not-inc\", \"High School grad\", \"Separated\", \"Blue-Collar\", \"Husband\", \"White\", \"Male\", \"Capital Gain <= 0.00\", \"Capital Loss <= 0.00\", 40, \"United-States\"], [71, \"Private\", \"High School grad\", \"Separated\", \"Sales\", \"Husband\", \"White\", \"Male\", \"Capital Gain <= 0.00\", 2467, 52, \"United-States\"], [30, \"Private\", \"Bachelors\", \"Separated\", \"Other\", \"Not-in-family\", \"White\", \"Female\", 4787, \"Capital Loss <= 0.00\", 45, \"United-States\"], [73, \"Private\", \"High School grad\", \"Separated\", \"Service\", \"Not-in-family\", \"White\", \"Female\", \"Capital Gain <= 0.00\", \"Capital Loss <= 0.00\", 37, \"United-States\"], [25, \"Private\", \"Associates\", \"Separated\", \"Blue-Collar\", \"Own-child\", \"White\", \"Male\", \"Capital Gain <= 0.00\", \"Capital Loss <= 0.00\", 40, \"United-States\"], [46, \"Federal-gov\", \"High School grad\", \"Separated\", \"Admin\", \"Wife\", \"White\", \"Female\", \"Capital Gain <= 0.00\", \"Capital Loss <= 0.00\", 40, \"United-States\"], [29, \"Private\", \"Bachelors\", \"Separated\", \"Sales\", \"Not-in-family\", \"White\", \"Male\", \"Capital Gain <= 0.00\", \"Capital Loss <= 0.00\", 40, \"United-States\"], [37, \"State-gov\", \"Doctorate\", \"Separated\", \"Professional\", \"Husband\", \"White\", \"Male\", \"Capital Gain <= 0.00\", \"Capital Loss <= 0.00\", 45, \"United-States\"], [55, \"Private\", \"High School grad\", \"Separated\", \"Blue-Collar\", \"Husband\", \"White\", \"Male\", 7688, \"Capital Loss <= 0.00\", 40, \"United-States\"]], \"covered_true\": [[53, \"Private\", \"High School grad\", \"Separated\", \"Other\", \"Husband\", \"White\", \"Male\", \"Capital Gain <= 0.00\", \"Capital Loss <= 0.00\", 40, \"United-States\"], [19, \"Private\", \"High School grad\", \"Separated\", \"Blue-Collar\", \"Own-child\", \"White\", \"Female\", \"Capital Gain <= 0.00\", \"Capital Loss <= 0.00\", 25, \"United-States\"], [29, \"Local-gov\", \"High School grad\", \"Separated\", \"Other\", \"Unmarried\", \"White\", \"Male\", \"Capital Gain <= 0.00\", \"Capital Loss <= 0.00\", 45, \"United-States\"], [27, \"Private\", \"Bachelors\", \"Separated\", \"Other\", \"Unmarried\", \"Black\", \"Female\", \"Capital Gain <= 0.00\", \"Capital Loss <= 0.00\", 40, \"United-States\"], [28, \"Private\", \"High School grad\", \"Separated\", \"White-Collar\", \"Unmarried\", \"White\", \"Female\", \"Capital Gain <= 0.00\", \"Capital Loss <= 0.00\", 50, \"United-States\"], [32, \"Private\", \"Bachelors\", \"Separated\", \"Professional\", \"Not-in-family\", \"White\", \"Male\", \"Capital Gain <= 0.00\", 1876, 50, \"United-States\"], [48, \"Private\", \"High School grad\", \"Separated\", \"Blue-Collar\", \"Husband\", \"White\", \"Male\", \"Capital Gain <= 0.00\", \"Capital Loss <= 0.00\", 55, \"United-States\"], [54, \"State-gov\", \"High School grad\", \"Separated\", \"White-Collar\", \"Unmarried\", \"White\", \"Female\", \"Capital Gain <= 0.00\", \"Capital Loss <= 0.00\", 38, \"United-States\"], [20, \"?\", \"High School grad\", \"Separated\", \"?\", \"Own-child\", \"White\", \"Female\", \"Capital Gain <= 0.00\", \"Capital Loss <= 0.00\", 20, \"United-States\"], [39, \"Private\", \"Dropout\", \"Separated\", \"Blue-Collar\", \"Husband\", \"White\", \"Male\", \"Capital Gain <= 0.00\", \"Capital Loss <= 0.00\", 25, \"United-States\"]], \"covered_false\": [[51, \"Self-emp-not-inc\", \"High School grad\", \"Separated\", \"White-Collar\", \"Husband\", \"White\", \"Male\", \"Capital Gain <= 0.00\", \"Capital Loss <= 0.00\", 99, \"United-States\"], [63, \"Private\", \"Bachelors\", \"Separated\", \"Sales\", \"Husband\", \"White\", \"Male\", 15024, \"Capital Loss <= 0.00\", 40, \"Other\"], [51, \"Private\", \"Bachelors\", \"Separated\", \"Sales\", \"Husband\", \"White\", \"Male\", \"Capital Gain <= 0.00\", \"Capital Loss <= 0.00\", 40, \"United-States\"], [36, \"Private\", \"High School grad\", \"Separated\", \"Professional\", \"Own-child\", \"White\", \"Female\", \"Capital Gain <= 0.00\", \"Capital Loss <= 0.00\", 40, \"United-States\"], [41, \"Private\", \"High School grad\", \"Separated\", \"White-Collar\", \"Husband\", \"White\", \"Male\", 99999, \"Capital Loss <= 0.00\", 50, \"United-States\"], [30, \"Private\", \"Prof-School\", \"Separated\", \"Professional\", \"Husband\", \"White\", \"Male\", \"Capital Gain <= 0.00\", \"Capital Loss <= 0.00\", 60, \"United-States\"], [55, \"?\", \"High School grad\", \"Separated\", \"?\", \"Not-in-family\", \"White\", \"Male\", 13550, \"Capital Loss <= 0.00\", 40, \"United-States\"], [24, \"?\", \"High School grad\", \"Separated\", \"?\", \"Not-in-family\", \"Asian-Pac-Islander\", \"Male\", 99999, \"Capital Loss <= 0.00\", 50, \"Euro_2\"], [30, \"Federal-gov\", \"Bachelors\", \"Separated\", \"Professional\", \"Husband\", \"White\", \"Male\", \"Capital Gain <= 0.00\", \"Capital Loss <= 0.00\", 40, \"United-States\"], [56, \"Private\", \"Bachelors\", \"Separated\", \"Sales\", \"Husband\", \"White\", \"Male\", \"Capital Gain <= 0.00\", \"Capital Loss <= 0.00\", 40, \"United-States\"]], \"uncovered_true\": [], \"uncovered_false\": []}, {\"covered\": [[46, \"Private\", \"High School grad\", \"Separated\", \"Sales\", \"Not-in-family\", \"White\", \"Female\", \"Capital Gain <= 0.00\", \"Capital Loss <= 0.00\", 40, \"United-States\"], [23, \"Private\", \"Bachelors\", \"Separated\", \"Admin\", \"Own-child\", \"White\", \"Female\", \"Capital Gain <= 0.00\", \"Capital Loss <= 0.00\", 50, \"United-States\"], [40, \"Private\", \"High School grad\", \"Separated\", \"Service\", \"Unmarried\", \"White\", \"Female\", \"Capital Gain <= 0.00\", \"Capital Loss <= 0.00\", 8, \"United-States\"], [36, \"Private\", \"Associates\", \"Separated\", \"Sales\", \"Wife\", \"White\", \"Female\", \"Capital Gain <= 0.00\", \"Capital Loss <= 0.00\", 15, \"United-States\"], [74, \"Private\", \"High School grad\", \"Separated\", \"Admin\", \"Not-in-family\", \"White\", \"Female\", \"Capital Gain <= 0.00\", \"Capital Loss <= 0.00\", 9, \"United-States\"], [23, \"Private\", \"High School grad\", \"Separated\", \"Professional\", \"Not-in-family\", \"White\", \"Female\", \"Capital Gain <= 0.00\", \"Capital Loss <= 0.00\", 45, \"United-States\"], [21, \"Private\", \"High School grad\", \"Separated\", \"Admin\", \"Not-in-family\", \"White\", \"Female\", \"Capital Gain <= 0.00\", \"Capital Loss <= 0.00\", 35, \"United-States\"], [43, \"State-gov\", \"High School grad\", \"Separated\", \"Admin\", \"Not-in-family\", \"White\", \"Female\", \"Capital Gain <= 0.00\", \"Capital Loss <= 0.00\", 40, \"United-States\"], [52, \"State-gov\", \"High School grad\", \"Separated\", \"Service\", \"Not-in-family\", \"White\", \"Female\", \"Capital Gain <= 0.00\", \"Capital Loss <= 0.00\", 35, \"United-States\"], [55, \"Private\", \"High School grad\", \"Separated\", \"Blue-Collar\", \"Not-in-family\", \"White\", \"Female\", \"Capital Gain <= 0.00\", \"Capital Loss <= 0.00\", 40, \"United-States\"]], \"covered_true\": [[32, \"?\", \"Bachelors\", \"Separated\", \"?\", \"Wife\", \"White\", \"Female\", \"Capital Gain <= 0.00\", \"Capital Loss <= 0.00\", 20, \"United-States\"], [19, \"?\", \"High School grad\", \"Separated\", \"?\", \"Own-child\", \"White\", \"Female\", \"Capital Gain <= 0.00\", \"Capital Loss <= 0.00\", 20, \"United-States\"], [30, \"Private\", \"Associates\", \"Separated\", \"Other\", \"Not-in-family\", \"White\", \"Female\", \"Capital Gain <= 0.00\", \"Capital Loss <= 0.00\", 40, \"United-States\"], [21, \"Self-emp-not-inc\", \"High School grad\", \"Separated\", \"Admin\", \"Own-child\", \"White\", \"Female\", \"Capital Gain <= 0.00\", \"Capital Loss <= 0.00\", 15, \"United-States\"], [43, \"Self-emp-not-inc\", \"High School grad\", \"Separated\", \"Service\", \"Wife\", \"White\", \"Female\", \"Capital Gain <= 0.00\", \"Capital Loss <= 0.00\", 16, \"United-States\"], [48, \"Federal-gov\", \"High School grad\", \"Separated\", \"Admin\", \"Wife\", \"White\", \"Female\", \"Capital Gain <= 0.00\", \"Capital Loss <= 0.00\", 40, \"United-States\"], [61, \"Self-emp-inc\", \"Bachelors\", \"Separated\", \"Sales\", \"Not-in-family\", \"White\", \"Female\", \"Capital Gain <= 0.00\", \"Capital Loss <= 0.00\", 30, \"United-States\"], [60, \"Private\", \"High School grad\", \"Separated\", \"Service\", \"Unmarried\", \"Black\", \"Female\", \"Capital Gain <= 0.00\", \"Capital Loss <= 0.00\", 40, \"United-States\"], [27, \"Private\", \"Bachelors\", \"Separated\", \"Professional\", \"Not-in-family\", \"White\", \"Female\", \"Capital Gain <= 0.00\", \"Capital Loss <= 0.00\", 40, \"United-States\"], [36, \"?\", \"High School grad\", \"Separated\", \"?\", \"Unmarried\", \"White\", \"Female\", \"Capital Gain <= 0.00\", \"Capital Loss <= 0.00\", 28, \"United-States\"]], \"covered_false\": [[39, \"Private\", \"High School grad\", \"Separated\", \"White-Collar\", \"Not-in-family\", \"White\", \"Female\", 8614, \"Capital Loss <= 0.00\", 40, \"United-States\"], [42, \"Self-emp-not-inc\", \"Doctorate\", \"Separated\", \"Professional\", \"Not-in-family\", \"White\", \"Female\", \"Capital Gain <= 0.00\", \"Capital Loss <= 0.00\", 45, \"United-States\"], [38, \"Private\", \"High School grad\", \"Separated\", \"White-Collar\", \"Wife\", \"White\", \"Female\", 7688, \"Capital Loss <= 0.00\", 40, \"United-States\"], [57, \"Self-emp-not-inc\", \"Prof-School\", \"Separated\", \"Sales\", \"Wife\", \"White\", \"Female\", 15024, \"Capital Loss <= 0.00\", 35, \"United-States\"], [33, \"Local-gov\", \"Bachelors\", \"Separated\", \"White-Collar\", \"Not-in-family\", \"White\", \"Female\", \"Capital Gain <= 0.00\", \"Capital Loss <= 0.00\", 50, \"United-States\"], [37, \"Private\", \"High School grad\", \"Separated\", \"White-Collar\", \"Not-in-family\", \"White\", \"Female\", \"Capital Gain <= 0.00\", \"Capital Loss <= 0.00\", 40, \"United-States\"], [36, \"Private\", \"High School grad\", \"Separated\", \"Professional\", \"Own-child\", \"White\", \"Female\", \"Capital Gain <= 0.00\", \"Capital Loss <= 0.00\", 40, \"United-States\"], [36, \"Self-emp-not-inc\", \"High School grad\", \"Separated\", \"Sales\", \"Wife\", \"White\", \"Female\", 7688, \"Capital Loss <= 0.00\", 40, \"United-States\"], [51, \"Private\", \"High School grad\", \"Separated\", \"Admin\", \"Unmarried\", \"White\", \"Female\", \"Capital Gain <= 0.00\", 2547, 40, \"United-States\"]], \"uncovered_true\": [], \"uncovered_false\": []}], \"all_precision\": 0, \"num_preds\": 1000101, \"names\": [\"Marital Status = Separated\", \"Sex = Female\"], \"instance\": [53, \"Private\", \"Associates\", \"Separated\", \"White-Collar\", \"Unmarried\", \"White\", \"Female\", \"Capital Gain <= 0.00\", \"Capital Loss <= 0.00\", 60, \"United-States\"], \"prediction\": 0}, \"meta\": {\"name\": \"AnchorTabular\"}}\n"
     ]
    }
   ],
   "source": [
    "payload='{\"data\": {\"ndarray\": [[53,4,0,2,8,4,4,0,0,0,60,9]]}}'\n",
    "cmd=f\"\"\"curl -d '{payload}' \\\n",
    "   http://income-classifier-default-explainer.{DEPLOY_NAMESPACE}:9000/api/v1.0/explain \\\n",
    "   -H \"Content-Type: application/json\"\n",
    "\"\"\"\n",
    "ret = Popen(cmd, shell=True,stdout=PIPE)\n",
    "raw = ret.stdout.read().decode(\"utf-8\")\n",
    "print(raw)"
   ]
  },
  {
   "cell_type": "markdown",
   "metadata": {
    "tags": []
   },
   "source": [
    "## Deploy Outier Detector"
   ]
  },
  {
   "cell_type": "code",
   "execution_count": 55,
   "metadata": {
    "tags": [
     "block:deploy_outlier",
     "prev:build_outlier",
     "prev:test_model"
    ]
   },
   "outputs": [
    {
     "data": {
      "text/plain": [
       "CompletedProcess(args='kubectl apply -f outlier.yaml', returncode=0)"
      ]
     },
     "execution_count": 55,
     "metadata": {},
     "output_type": "execute_result"
    }
   ],
   "source": [
    "outlier_yaml=f\"\"\"apiVersion: serving.knative.dev/v1\n",
    "kind: Service\n",
    "metadata:\n",
    "  name: income-outlier\n",
    "  namespace: {DEPLOY_NAMESPACE}\n",
    "spec:\n",
    "  template:\n",
    "    metadata:\n",
    "      annotations:\n",
    "        autoscaling.knative.dev/minScale: \"1\"\n",
    "    spec:\n",
    "      containers:\n",
    "      - image: seldonio/alibi-detect-server:1.2.2-dev_alibidetect\n",
    "        imagePullPolicy: IfNotPresent\n",
    "        args:\n",
    "        - --model_name\n",
    "        - adultod\n",
    "        - --http_port\n",
    "        - '8080'\n",
    "        - --protocol\n",
    "        - seldon.http\n",
    "        - --storage_uri\n",
    "        - s3://{MINIO_MODEL_BUCKET}/{OUTLIER_MODEL_PATH}\n",
    "        - --reply_url\n",
    "        - http://default-broker       \n",
    "        - --event_type\n",
    "        - io.seldon.serving.inference.outlier\n",
    "        - --event_source\n",
    "        - io.seldon.serving.incomeod\n",
    "        - OutlierDetector\n",
    "        envFrom:\n",
    "        - secretRef:\n",
    "            name: seldon-init-container-secret\n",
    "\"\"\"\n",
    "with open(\"outlier.yaml\",\"w\") as f:\n",
    "    f.write(outlier_yaml)\n",
    "run(\"kubectl apply -f outlier.yaml\", shell=True)"
   ]
  },
  {
   "cell_type": "code",
   "execution_count": 40,
   "metadata": {
    "tags": []
   },
   "outputs": [
    {
     "data": {
      "text/plain": [
       "CompletedProcess(args='kubectl apply -f outlier_trigger.yaml', returncode=0)"
      ]
     },
     "execution_count": 40,
     "metadata": {},
     "output_type": "execute_result"
    }
   ],
   "source": [
    "trigger_outlier_yaml=f\"\"\"apiVersion: eventing.knative.dev/v1alpha1\n",
    "kind: Trigger\n",
    "metadata:\n",
    "  name: income-outlier-trigger\n",
    "  namespace: {DEPLOY_NAMESPACE}\n",
    "spec:\n",
    "  filter:\n",
    "    sourceAndType:\n",
    "      type: io.seldon.serving.inference.request\n",
    "  subscriber:\n",
    "    ref:\n",
    "      apiVersion: serving.knative.dev/v1alpha1\n",
    "      kind: Service\n",
    "      name: income-outlier\n",
    "\"\"\"\n",
    "with open(\"outlier_trigger.yaml\",\"w\") as f:\n",
    "    f.write(trigger_outlier_yaml)\n",
    "run(\"kubectl apply -f outlier_trigger.yaml\", shell=True)"
   ]
  },
  {
   "cell_type": "code",
   "execution_count": 41,
   "metadata": {
    "tags": []
   },
   "outputs": [
    {
     "data": {
      "text/plain": [
       "CompletedProcess(args=\"kubectl rollout status -n admin deploy/$(kubectl get deploy -l serving.knative.dev/service=income-outlier -o jsonpath='{.items[0].metadata.name}' -n admin)\", returncode=0)"
      ]
     },
     "execution_count": 41,
     "metadata": {},
     "output_type": "execute_result"
    }
   ],
   "source": [
    "run(f\"kubectl rollout status -n {DEPLOY_NAMESPACE} deploy/$(kubectl get deploy -l serving.knative.dev/service=income-outlier -o jsonpath='{{.items[0].metadata.name}}' -n {DEPLOY_NAMESPACE})\", shell=True)"
   ]
  },
  {
   "cell_type": "markdown",
   "metadata": {
    "tags": []
   },
   "source": [
    "## Deploy KNative Eventing Event Display"
   ]
  },
  {
   "cell_type": "code",
   "execution_count": 46,
   "metadata": {
    "tags": [
     "block:deploy_event_display",
     "prev:deploy_outlier"
    ]
   },
   "outputs": [
    {
     "data": {
      "text/plain": [
       "CompletedProcess(args='kubectl apply -f event_display.yaml', returncode=0)"
      ]
     },
     "execution_count": 46,
     "metadata": {},
     "output_type": "execute_result"
    }
   ],
   "source": [
    "event_display=f\"\"\"apiVersion: apps/v1\n",
    "kind: Deployment\n",
    "metadata:\n",
    "  name: event-display\n",
    "  namespace: {DEPLOY_NAMESPACE}          \n",
    "spec:\n",
    "  replicas: 1\n",
    "  selector:\n",
    "    matchLabels: &labels\n",
    "      app: event-display\n",
    "  template:\n",
    "    metadata:\n",
    "      labels: *labels\n",
    "    spec:\n",
    "      containers:\n",
    "        - name: helloworld-go\n",
    "          # Source code: https://github.com/knative/eventing-contrib/tree/master/cmd/event_display\n",
    "          image: gcr.io/knative-releases/knative.dev/eventing-contrib/cmd/event_display@sha256:f4628e97a836c77ed38bd3b6fd3d0b06de4d5e7db6704772fe674d48b20bd477\n",
    "---\n",
    "kind: Service\n",
    "apiVersion: v1\n",
    "metadata:\n",
    "  name: event-display\n",
    "  namespace: {DEPLOY_NAMESPACE}\n",
    "spec:\n",
    "  selector:\n",
    "    app: event-display\n",
    "  ports:\n",
    "    - protocol: TCP\n",
    "      port: 80\n",
    "      targetPort: 8080\n",
    "---\n",
    "apiVersion: eventing.knative.dev/v1alpha1\n",
    "kind: Trigger\n",
    "metadata:\n",
    "  name: income-outlier-display\n",
    "  namespace: {DEPLOY_NAMESPACE}\n",
    "spec:\n",
    "  broker: default\n",
    "  filter:\n",
    "    attributes:\n",
    "      type: io.seldon.serving.inference.outlier\n",
    "  subscriber:\n",
    "    ref:\n",
    "      apiVersion: v1\n",
    "      kind: Service\n",
    "      name: event-display\n",
    "\"\"\"\n",
    "with open(\"event_display.yaml\",\"w\") as f:\n",
    "    f.write(event_display)\n",
    "run(\"kubectl apply -f event_display.yaml\", shell=True)"
   ]
  },
  {
   "cell_type": "code",
   "execution_count": 47,
   "metadata": {
    "tags": []
   },
   "outputs": [
    {
     "data": {
      "text/plain": [
       "CompletedProcess(args='kubectl rollout status -n admin deploy/event-display -n admin', returncode=0)"
      ]
     },
     "execution_count": 47,
     "metadata": {},
     "output_type": "execute_result"
    }
   ],
   "source": [
    "run(f\"kubectl rollout status -n {DEPLOY_NAMESPACE} deploy/event-display -n {DEPLOY_NAMESPACE}\", shell=True)"
   ]
  },
  {
   "cell_type": "markdown",
   "metadata": {
    "tags": []
   },
   "source": [
    "## Test Outlier Detection"
   ]
  },
  {
   "cell_type": "code",
   "execution_count": 62,
   "metadata": {
    "tags": [
     "block:test_outliers",
     "prev:deploy_event_display"
    ]
   },
   "outputs": [],
   "source": [
    "def predict():\n",
    "    payload='{\"data\": {\"ndarray\": [[300,  4,  4,  2,  1,  4,  4,  0,  0,  0, 600,  9]]}}'\n",
    "    cmd=f\"\"\"curl -d '{payload}' \\\n",
    "       http://income-classifier-default.{DEPLOY_NAMESPACE}:8000/api/v1.0/predictions \\\n",
    "       -H \"Content-Type: application/json\"\n",
    "    \"\"\"\n",
    "    ret = Popen(cmd, shell=True,stdout=PIPE)\n",
    "    raw = ret.stdout.read().decode(\"utf-8\")\n",
    "    print(raw)"
   ]
  },
  {
   "cell_type": "code",
   "execution_count": 63,
   "metadata": {
    "tags": []
   },
   "outputs": [
    {
     "name": "stdout",
     "output_type": "stream",
     "text": [
      "{\"data\":{\"names\":[\"t:0\",\"t:1\"],\"ndarray\":[[0.92,0.08]]},\"meta\":{}}\n",
      "\n",
      "Waiting for outlier logs, sleeping\n",
      "{'data': {'instance_score': None, 'feature_score': None, 'is_outlier': [1]}, 'meta': {'name': 'IForest', 'detector_type': 'offline', 'data_type': 'tabular'}}\n",
      "Outlier True\n"
     ]
    }
   ],
   "source": [
    "def get_outlier_event_display_logs():\n",
    "    cmd=f\"kubectl logs $(kubectl get pod -l app=event-display -o jsonpath='{{.items[0].metadata.name}}' -n {DEPLOY_NAMESPACE}) -n {DEPLOY_NAMESPACE}\"\n",
    "    ret = Popen(cmd, shell=True,stdout=PIPE)\n",
    "    res = ret.stdout.read().decode(\"utf-8\").split(\"\\n\")\n",
    "    data= []\n",
    "    for i in range(0,len(res)):\n",
    "        if res[i] == 'Data,':\n",
    "            j = json.loads(json.loads(res[i+1]))\n",
    "            if \"is_outlier\"in j[\"data\"].keys():\n",
    "                data.append(j)\n",
    "    if len(data) > 0:\n",
    "        return data[-1]\n",
    "    else:\n",
    "        return None\n",
    "j = None\n",
    "while j is None:\n",
    "    predict()\n",
    "    print(\"Waiting for outlier logs, sleeping\")\n",
    "    time.sleep(2)\n",
    "    j = get_outlier_event_display_logs()\n",
    "    \n",
    "print(j)\n",
    "print(\"Outlier\",j[\"data\"][\"is_outlier\"]==[1])"
   ]
  },
  {
   "cell_type": "markdown",
   "metadata": {
    "tags": []
   },
   "source": [
    "## Clean Up Resources"
   ]
  },
  {
   "cell_type": "code",
   "execution_count": 60,
   "metadata": {
    "tags": [
     "skip"
    ]
   },
   "outputs": [
    {
     "data": {
      "text/plain": [
       "CompletedProcess(args='kubectl delete svc event-display -n admin', returncode=0)"
      ]
     },
     "execution_count": 60,
     "metadata": {},
     "output_type": "execute_result"
    }
   ],
   "source": [
    "run(f\"kubectl delete sdep income-classifier -n {DEPLOY_NAMESPACE}\", shell=True)\n",
    "run(f\"kubectl delete ksvc income-outlier -n {DEPLOY_NAMESPACE}\", shell=True)\n",
    "run(f\"kubectl delete sa  minio-sa -n {DEPLOY_NAMESPACE}\", shell=True)\n",
    "run(f\"kubectl delete secret seldon-init-container-secret -n {DEPLOY_NAMESPACE}\", shell=True)\n",
    "run(f\"kubectl delete deployment event-display -n {DEPLOY_NAMESPACE}\", shell=True)\n",
    "run(f\"kubectl delete svc event-display -n {DEPLOY_NAMESPACE}\", shell=True)"
   ]
  },
  {
   "cell_type": "code",
   "execution_count": null,
   "metadata": {
    "tags": []
   },
   "outputs": [],
   "source": []
  }
 ],
 "metadata": {
  "kernelspec": {
   "display_name": "Python 3",
   "language": "python",
   "name": "python3"
  },
  "kubeflow_notebook": {
   "docker_image": "seldonio/jupyter-lab-alibi-kale:0.11",
   "experiment": {
    "id": "new",
    "name": "seldon-e2e-adult"
   },
   "experiment_name": "seldon-e2e-adult",
   "katib_metadata": {
    "algorithm": {
     "algorithmName": "grid"
    },
    "maxFailedTrialCount": 3,
    "maxTrialCount": 12,
    "objective": {
     "objectiveMetricName": "",
     "type": "minimize"
    },
    "parallelTrialCount": 3,
    "parameters": []
   },
   "katib_run": false,
   "pipeline_description": "Seldon e2e adult",
   "pipeline_name": "seldon-e2e-adult",
   "volumes": []
  },
  "language_info": {
   "codemirror_mode": {
    "name": "ipython",
    "version": 3
   },
   "file_extension": ".py",
   "mimetype": "text/x-python",
   "name": "python",
   "nbconvert_exporter": "python",
   "pygments_lexer": "ipython3",
   "version": "3.6.8"
  },
  "varInspector": {
   "cols": {
    "lenName": 16,
    "lenType": 16,
    "lenVar": 40
   },
   "kernels_config": {
    "python": {
     "delete_cmd_postfix": "",
     "delete_cmd_prefix": "del ",
     "library": "var_list.py",
     "varRefreshCmd": "print(var_dic_list())"
    },
    "r": {
     "delete_cmd_postfix": ") ",
     "delete_cmd_prefix": "rm(",
     "library": "var_list.r",
     "varRefreshCmd": "cat(var_dic_list()) "
    }
   },
   "types_to_exclude": [
    "module",
    "function",
    "builtin_function_or_method",
    "instance",
    "_Feature"
   ],
   "window_display": false
  }
 },
 "nbformat": 4,
 "nbformat_minor": 4
}
